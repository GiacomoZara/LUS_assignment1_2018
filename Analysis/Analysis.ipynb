{
 "cells": [
  {
   "cell_type": "code",
   "execution_count": null,
   "metadata": {
    "collapsed": false
   },
   "outputs": [],
   "source": [
    "import plotly\n",
    "from plotly.graph_objs import Bar, Layout, Margin\n",
    "plotly.offline.init_notebook_mode(connected=True)"
   ]
  },
  {
   "cell_type": "code",
   "execution_count": null,
   "metadata": {
    "collapsed": true
   },
   "outputs": [],
   "source": [
    "def extract_concept(raw_concept):\n",
    "    cond1 = raw_concept.startswith('B-')\n",
    "    cond2 = raw_concept.startswith('I-')\n",
    "    cond3 = raw_concept.startswith('E-')\n",
    "\n",
    "    if cond1 or cond2 or cond3:\n",
    "        res = raw_concept[2:]\n",
    "    else:\n",
    "        res = raw_concept\n",
    "\n",
    "    return res"
   ]
  },
  {
   "cell_type": "code",
   "execution_count": null,
   "metadata": {
    "collapsed": false
   },
   "outputs": [],
   "source": [
    "training_file = open('LUS.P1/data/P1_data/data/NLSPARQL.train.data')\n",
    "\n",
    "concepts_count_train = {}\n",
    "\n",
    "nr_of_lines_train = 0\n",
    "nr_of_sentences_train = 0\n",
    "\n",
    "for line in training_file:\n",
    "    line_split = line.split()\n",
    "    if len(line.split()) > 0:\n",
    "        raw_concept = str(line.split()[1])\n",
    "        concept = extract_concept(raw_concept)\n",
    "        if concepts_count_train.get(concept):\n",
    "            concepts_count_train[concept] += 1\n",
    "        else:\n",
    "            concepts_count_train[concept] = 1\n",
    "        nr_of_lines_train += 1\n",
    "    else: nr_of_sentences_train += 1\n",
    "\n",
    "training_file.close()"
   ]
  },
  {
   "cell_type": "code",
   "execution_count": null,
   "metadata": {
    "collapsed": true
   },
   "outputs": [],
   "source": [
    "test_file = open('LUS.P1/data/P1_data/data/NLSPARQL.test.data')\n",
    "\n",
    "concepts_count_test = {}\n",
    "\n",
    "nr_of_lines_test = 0\n",
    "nr_of_sentences_test = 0\n",
    "\n",
    "for line in test_file:\n",
    "    line_split = line.split()\n",
    "    if len(line.split()) > 0:\n",
    "        raw_concept = str(line.split()[1])\n",
    "        concept = extract_concept(raw_concept)\n",
    "        if concepts_count_test.get(concept):\n",
    "            concepts_count_test[concept] += 1\n",
    "        else:\n",
    "            concepts_count_test[concept] = 1\n",
    "        nr_of_lines_test += 1\n",
    "    else:\n",
    "        nr_of_sentences_test += 1\n",
    "\n",
    "test_file.close()"
   ]
  },
  {
   "cell_type": "code",
   "execution_count": null,
   "metadata": {
    "collapsed": false
   },
   "outputs": [],
   "source": [
    "concepts_train = []\n",
    "data_train = []\n",
    "for concept in concepts_count_train:\n",
    "    if not (concept == 'O'):\n",
    "        concepts_train.append(concept)\n",
    "        data_train.append(concepts_count_train[concept])"
   ]
  },
  {
   "cell_type": "code",
   "execution_count": null,
   "metadata": {
    "collapsed": true
   },
   "outputs": [],
   "source": [
    "concepts_test = []\n",
    "data_test = []\n",
    "for concept in concepts_count_test:\n",
    "    if not (concept == 'O'):\n",
    "        concepts_test.append(concept)\n",
    "        data_test.append(concepts_count_test[concept])"
   ]
  },
  {
   "cell_type": "code",
   "execution_count": null,
   "metadata": {
    "collapsed": false
   },
   "outputs": [],
   "source": [
    "plotly.offline.iplot({\n",
    "    \"data\": [Bar(orientation = 'v',\n",
    "                 x = concepts_train,\n",
    "                 y = data_train,\n",
    "                 marker = dict(color = \"#1abc9c\"))],\n",
    "    \"layout\": Layout(title=\"Concepts distribution (training set)\", \n",
    "                     xaxis=dict(title='concepts'),\n",
    "                     yaxis=dict(title='occurrences', dtick = 1000),\n",
    "                     margin=Margin(b=150)\n",
    "                    )\n",
    "})"
   ]
  },
  {
   "cell_type": "code",
   "execution_count": null,
   "metadata": {
    "collapsed": false
   },
   "outputs": [],
   "source": [
    "plotly.offline.iplot({\n",
    "    \"data\": [Bar(orientation = 'v',\n",
    "                 x = concepts_test,\n",
    "                 y = data_test,\n",
    "                 marker = dict(color = \"#1abc9c\"))],\n",
    "    \"layout\": Layout(title=\"Concepts distribution (test set)\", \n",
    "                     xaxis=dict(title='concepts'),\n",
    "                     yaxis=dict(title='occurrences', dtick = 1000),\n",
    "                     margin=Margin(b=150)\n",
    "                    )\n",
    "})"
   ]
  },
  {
   "cell_type": "code",
   "execution_count": null,
   "metadata": {
    "collapsed": false
   },
   "outputs": [],
   "source": [
    "print(\"TRAINING SET:\\n\")\n",
    "print(\"Number of Os: \" + str(concepts_count_train['O']))\n",
    "print(\"Number of items: \" + str(nr_of_lines_train))\n",
    "print(\"Number of sentences: \" + str(nr_of_sentences_train))\n",
    "print(\"\\n\")\n",
    "print(\"TEST SET:\\n\")\n",
    "print(\"Number of Os: \" + str(concepts_count_test['O']))\n",
    "print(\"Number of items: \" + str(nr_of_lines_test))\n",
    "print(\"Number of sentences: \" + str(nr_of_sentences_test))"
   ]
  },
  {
   "cell_type": "code",
   "execution_count": 8,
   "metadata": {
    "collapsed": false
   },
   "outputs": [
    {
     "name": "stdout",
     "output_type": "stream",
     "text": [
      "246\n",
      "1039\n",
      "0.23676612127045235\n"
     ]
    }
   ],
   "source": [
    "training_file = open('LUS.P1/data/P1_data/data/NLSPARQL.train.data')\n",
    "test_file = open('LUS.P1/data/P1_data/data/NLSPARQL.test.data')\n",
    "\n",
    "training_words = []\n",
    "test_words = []\n",
    "\n",
    "for line_tr in training_file:\n",
    "    split_line = line_tr.split()\n",
    "    if len(split_line) > 0:\n",
    "        word = split_line[0]\n",
    "        if word not in training_words:\n",
    "            training_words.append(word)\n",
    "    \n",
    "for line_tst in test_file:\n",
    "    split_line = line_tst.split()\n",
    "    if len(split_line) > 0:\n",
    "        word = split_line[0]\n",
    "        if word not in test_words:\n",
    "            test_words.append(word)\n",
    "    \n",
    "test_file.close()\n",
    "training_file.close()\n",
    "\n",
    "unknowns = 0\n",
    "\n",
    "for w in test_words:\n",
    "    if w not in training_words:\n",
    "        unknowns += 1\n",
    "        \n",
    "print(unknowns)\n",
    "print(len(test_words))\n",
    "print(unknowns/(len(test_words)))"
   ]
  },
  {
   "cell_type": "code",
   "execution_count": null,
   "metadata": {
    "collapsed": true
   },
   "outputs": [],
   "source": []
  }
 ],
 "metadata": {
  "kernelspec": {
   "display_name": "Python 3",
   "language": "python",
   "name": "python3"
  },
  "language_info": {
   "codemirror_mode": {
    "name": "ipython",
    "version": 3
   },
   "file_extension": ".py",
   "mimetype": "text/x-python",
   "name": "python",
   "nbconvert_exporter": "python",
   "pygments_lexer": "ipython3",
   "version": "3.6.3"
  }
 },
 "nbformat": 4,
 "nbformat_minor": 2
}
